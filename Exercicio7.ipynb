{
 "cells": [
  {
   "cell_type": "markdown",
   "metadata": {},
   "source": [
    "1- Defina a função soma_nat que recebe como argumento um número natural n e devolve a soma de todos os números naturais até n."
   ]
  },
  {
   "cell_type": "code",
   "execution_count": 2,
   "metadata": {},
   "outputs": [
    {
     "name": "stdout",
     "output_type": "stream",
     "text": [
      "Começando o teste\n",
      "Fim\n"
     ]
    }
   ],
   "source": [
    "nat = lambda n: n + nat(n - 1) if n > 0 else 0\n",
    "\n",
    "print('Começando o teste')\n",
    "assert(nat(5) == 15)\n",
    "assert(nat(3) == 6)\n",
    "print('Fim')"
   ]
  },
  {
   "cell_type": "markdown",
   "metadata": {},
   "source": [
    "3- Defina a função prim_alg que recebe como argumento um número natural e devolve o primeiro algarismo (o mais significativo) na representação decimal de n."
   ]
  },
  {
   "cell_type": "code",
   "execution_count": 10,
   "metadata": {},
   "outputs": [
    {
     "name": "stdout",
     "output_type": "stream",
     "text": [
      "Começando o teste\n",
      "Fim\n"
     ]
    }
   ],
   "source": [
    "prim_alg = lambda n: n if n < 10 else prim_alg(n // 10)\n",
    "\n",
    "print('Começando o teste')\n",
    "assert(prim_alg(1231) == 1)\n",
    "assert(prim_alg(483) == 4)\n",
    "print('Fim')"
   ]
  },
  {
   "cell_type": "markdown",
   "metadata": {},
   "source": [
    "2- Defina a função div que recebe como argumentos dois números naturais m e n e devolve o resultado da divisão inteira de m por n. Neste exercício você não pode recorrer às operações aritméticas de multiplicação, divisão e resto da divisão inteira."
   ]
  },
  {
   "cell_type": "code",
   "execution_count": 14,
   "metadata": {},
   "outputs": [
    {
     "name": "stdout",
     "output_type": "stream",
     "text": [
      "Começando o teste\n",
      "Fim\n"
     ]
    }
   ],
   "source": [
    "div = lambda m,n: 1 + div(m - n, n) if m >= n else 0\n",
    "\n",
    "print('Começando o teste')\n",
    "assert(div(5,2) == 2)\n",
    "assert(div(9,2) == 4)\n",
    "assert(div(3,2) == 1)\n",
    "print('Fim')"
   ]
  },
  {
   "cell_type": "markdown",
   "metadata": {},
   "source": [
    "5- Defina a função contem_parQ que recebe como argumento uma lista de números inteiros  w e devolve True se w contém um número par e False em caso contrário."
   ]
  },
  {
   "cell_type": "code",
   "execution_count": 3,
   "metadata": {},
   "outputs": [
    {
     "name": "stdout",
     "output_type": "stream",
     "text": [
      "Começando o teste\n",
      "Fim\n"
     ]
    }
   ],
   "source": [
    "contem_parQ = lambda w: False if len(w) == 0 or (w[len(w) - 1] % 2 != 0 and not contem_parQ(w[:-1])) else True\n",
    "\n",
    "print('Começando o teste')\n",
    "assert(contem_parQ([1,1,3,7,5]) == False)\n",
    "assert(contem_parQ([1,2,3,4,5]) == True)\n",
    "assert(contem_parQ([2,4,6,8,10]) == True)\n",
    "print('Fim')            "
   ]
  },
  {
   "cell_type": "markdown",
   "metadata": {},
   "source": [
    "6- Defina a função todos_imparesQ que recebe como argumento uma lista de números inteiros w e devolve True se  w contém apenas números ímpares e False em caso contrário."
   ]
  },
  {
   "cell_type": "code",
   "execution_count": 4,
   "metadata": {},
   "outputs": [
    {
     "name": "stdout",
     "output_type": "stream",
     "text": [
      "Começando o teste\n",
      "Fim\n"
     ]
    }
   ],
   "source": [
    "todos_imparesQ = lambda w: True if len(w) == 0 or (w[len(w) - 1] % 2 != 0 and todos_imparesQ(w[:-1])) else False\n",
    "\n",
    "print('Começando o teste')\n",
    "assert(todos_imparesQ([1,1,3,7,11]) == True)\n",
    "assert(todos_imparesQ([1,2,3,4,5]) == False)\n",
    "assert(todos_imparesQ([2,4,6,8,10]) == False)\n",
    "print('Fim')     "
   ]
  },
  {
   "cell_type": "code",
   "execution_count": null,
   "metadata": {},
   "outputs": [],
   "source": []
  }
 ],
 "metadata": {
  "kernelspec": {
   "display_name": "Python 3",
   "language": "python",
   "name": "python3"
  },
  "language_info": {
   "codemirror_mode": {
    "name": "ipython",
    "version": 3
   },
   "file_extension": ".py",
   "mimetype": "text/x-python",
   "name": "python",
   "nbconvert_exporter": "python",
   "pygments_lexer": "ipython3",
   "version": "3.6.5"
  }
 },
 "nbformat": 4,
 "nbformat_minor": 2
}
